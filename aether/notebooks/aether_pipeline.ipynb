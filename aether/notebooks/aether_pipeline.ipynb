{
 "cells": [
  {
   "cell_type": "code",
   "execution_count": null,
   "metadata": {},
   "outputs": [],
   "source": [
    "!pip install -q -r aether/docker/requirements.txt",
    "!mkdir -p cache_dir aether/data/raw aether/data/processed aether/data/vector_stores",
    "from aether.src.orchestrator.langgraph_flow import build_aether_graph",
    "graph = build_aether_graph()",
    "output = graph.invoke({})",
    "print('🧠 Final LangGraph Output:')",
    "print(output)"
   ]
  },
  {
   "cell_type": "code",
   "execution_count": null,
   "metadata": {},
   "outputs": [],
   "source": [
    "!streamlit run aether/src/ui/dashboard.py --server.port 8501 &",
    "!uvicorn aether.src.api.main:app --host 0.0.0.0 --port 8000"
   ]
  }
 ],
 "metadata": {
  "kernelspec": {
   "display_name": "Python 3",
   "language": "python",
   "name": "python3"
  },
  "language_info": {
   "codemirror_mode": {
    "name": "ipython",
    "version": 3
   },
   "file_extension": ".py",
   "mimetype": "text/x-python",
   "name": "python",
   "nbconvert_exporter": "python",
   "pygments_lexer": "ipython3",
   "version": "3.11.0"
  }
 },
 "nbformat": 4,
 "nbformat_minor": 4
}
